{
 "cells": [
  {
   "cell_type": "code",
   "execution_count": 3,
   "metadata": {},
   "outputs": [],
   "source": [
    "from konlpy.tag import Twitter\n",
    "import gensim"
   ]
  },
  {
   "cell_type": "code",
   "execution_count": 4,
   "metadata": {},
   "outputs": [],
   "source": [
    "def read_data(filename):    \n",
    "    with open(filename, 'r',encoding='utf-8') as f:\n",
    "        data = [line.split('\\t') for line in f.read().splitlines()]        \n",
    "        data = data[1:]   # header 제외 #    \n",
    "    return data \n"
   ]
  },
  {
   "cell_type": "code",
   "execution_count": 5,
   "metadata": {},
   "outputs": [],
   "source": [
    "twitter = Twitter() \n",
    "\n",
    "def tokenize(doc):\n",
    "\n",
    "    return ['/'.join(t) for t in twitter.pos(doc, norm=True, stem=True)]\n"
   ]
  },
  {
   "cell_type": "code",
   "execution_count": 7,
   "metadata": {},
   "outputs": [],
   "source": [
    "def word2vec_train(tokens):\n",
    "    model = gensim.models.Word2Vec(size=300, sg=1, alpha=0.025, min_alpha=0.025, seed=410)\n",
    "    model.build_vocab(tokens)\n",
    "    model.train(tokens, model.corpus_count, epochs=model.epochs)\n",
    "    model.save('word2vec.model')"
   ]
  },
  {
   "cell_type": "code",
   "execution_count": null,
   "metadata": {},
   "outputs": [],
   "source": [
    "def word2vec_load():\n",
    "    model = gensim.models.word2vec.Word2Vec.load('word2vec.model')\n",
    "    return model"
   ]
  },
  {
   "cell_type": "code",
   "execution_count": 8,
   "metadata": {},
   "outputs": [],
   "source": [
    "def token2vec(model, doc):\n",
    "    word_vec = []\n",
    "    word_num = 0\n",
    "    unk_num = 0\n",
    "    for sent in doc:\n",
    "        sub = []\n",
    "        for word in sent:\n",
    "            word_num += 1\n",
    "            if(word in model.wv.vocab):\n",
    "                sub.append(model.wv[word])\n",
    "            else:\n",
    "                unk_num += 1\n",
    "                sub.append(np.zeros(300)) # used for unknown\n",
    "        word_vec.append(sub)\n",
    "    print('word_num :', word_num, 'unk_num :', unk_num)\n",
    "    return word_vec"
   ]
  },
  {
   "cell_type": "code",
   "execution_count": 9,
   "metadata": {},
   "outputs": [],
   "source": [
    "def zero_padding(max_length, seq, embedding_size):\n",
    "    zero_pad = np.zeros((max_length) * embedding_size)\n",
    "    seq_flat = np.reshape(seq, [-1])\n",
    "    if(len(seq) > max_length):\n",
    "        zero_pad[0:] = seq_flat[0:max_length * embedding_size]\n",
    "    else:\n",
    "        zero_pad[0:len(seq) * embedding_size] = seq_flat\n",
    "    return zero_pad\n"
   ]
  },
  {
   "cell_type": "code",
   "execution_count": null,
   "metadata": {},
   "outputs": [],
   "source": []
  }
 ],
 "metadata": {
  "kernelspec": {
   "display_name": "Python 3",
   "language": "python",
   "name": "python3"
  },
  "language_info": {
   "codemirror_mode": {
    "name": "ipython",
    "version": 3
   },
   "file_extension": ".py",
   "mimetype": "text/x-python",
   "name": "python",
   "nbconvert_exporter": "python",
   "pygments_lexer": "ipython3",
   "version": "3.5.2"
  }
 },
 "nbformat": 4,
 "nbformat_minor": 2
}
