{
 "cells": [
  {
   "cell_type": "code",
   "execution_count": 16,
   "metadata": {},
   "outputs": [],
   "source": [
    "import tensorflow as tf\n",
    "from konlpy.tag import Twitter\n",
    "import numpy as np\n",
    "import gensim"
   ]
  },
  {
   "cell_type": "code",
   "execution_count": null,
   "metadata": {},
   "outputs": [],
   "source": [
    "def read_data(filename):    \n",
    "    with open(filename, 'r',encoding='utf-8') as f:\n",
    "        data = [line.split('\\t') for line in f.read().splitlines()]        \n",
    "        data = data[1:]   # header 제외 #    \n",
    "    return data \n",
    "    \n",
    "# train_data = read_data('data/ratings_train3.txt')\n",
    "test_data = read_data('data/ratings_test.txt')"
   ]
  },
  {
   "cell_type": "code",
   "execution_count": null,
   "metadata": {},
   "outputs": [],
   "source": [
    "twitter = Twitter() \n",
    "\n",
    "def tokenize(doc):\n",
    "\n",
    "    return ['/'.join(t) for t in twitter.pos(doc, norm=True, stem=True)]\n",
    "\n",
    "tokens = [tokenize(row[1]) for row in test_data]"
   ]
  },
  {
   "cell_type": "code",
   "execution_count": null,
   "metadata": {},
   "outputs": [],
   "source": [
    "model = gensim.models.word2vec.Word2Vec.load('word2vec.model')"
   ]
  },
  {
   "cell_type": "code",
   "execution_count": null,
   "metadata": {},
   "outputs": [],
   "source": [
    "len(model.wv.vocab)\n",
    "\n",
    "def convert2Vec(model, doc):  ## Convert corpus into vectors\n",
    "    word_vec = []\n",
    "    word_num = 0\n",
    "    unk_num = 0\n",
    "#     print('doc : ', doc)\n",
    "    for sent in doc:\n",
    "#         print('sent : ', sent)\n",
    "        sub = []\n",
    "        for word in sent:\n",
    "            word_num += 1\n",
    "            if(word in model.wv.vocab):\n",
    "#                 print('word in sent')\n",
    "                sub.append(model.wv[word])\n",
    "            else:\n",
    "                unk_num += 1\n",
    "#                 print('word not in sent')\n",
    "                sub.append(np.zeros(300)) ## used for OOV words\n",
    "        word_vec.append(sub)\n",
    "    print('word_num :', word_num, 'unk_num :', unk_num)\n",
    "    return word_vec\n"
   ]
  },
  {
   "cell_type": "code",
   "execution_count": null,
   "metadata": {},
   "outputs": [],
   "source": [
    "tokens = [[tokenize(row[1]),int(row[2])] for row in test_data if tokenize(row[1]) != []]\n",
    "tokens = np.array(tokens)\n",
    "test_X = tokens[:,0]\n",
    "test_Y = tokens[:,[-1]]\n",
    "test_X = convert2Vec(model, test_X)\n",
    "maxseq_length = 76"
   ]
  },
  {
   "cell_type": "code",
   "execution_count": null,
   "metadata": {},
   "outputs": [],
   "source": [
    "def zero_padding(maxseq_length, seq):\n",
    "    zero_pad = np.zeros((maxseq_length) * 300)\n",
    "    seq_flat = np.reshape(seq, [-1])\n",
    "    if(len(seq) > maxseq_length):\n",
    "        zero_pad[0:] = seq_flat[0:maxseq_length * 300]\n",
    "    else:\n",
    "        zero_pad[0:len(seq) * 300] = seq_flat\n",
    "    return zero_pad\n",
    "test_X = [zero_padding(maxseq_length, seq) for seq in test_X]\n",
    "len(test_X[0])"
   ]
  },
  {
   "cell_type": "code",
   "execution_count": null,
   "metadata": {},
   "outputs": [],
   "source": [
    "X = tf.placeholder(tf.float32, shape=[None, maxseq_length * 300])\n",
    "Y = tf.placeholder(tf.float32, shape=[None, 1])"
   ]
  },
  {
   "cell_type": "code",
   "execution_count": null,
   "metadata": {},
   "outputs": [],
   "source": [
    "save_path = './saved/model-99'\n",
    "\n",
    "with tf.Session() as sess:\n",
    "    sess.run(tf.global_variables_initializer())\n",
    "    saver = tf.train.import_meta_graph(save_path + '.meta')\n",
    "    saver.restore(sess, save_path)\n",
    "\n",
    "    graph = tf.get_default_graph()\n",
    "    \n",
    "    W = graph.get_tensor_by_name('weight1:0')\n",
    "    b = graph.get_tensor_by_name('bias:0')\n",
    "    \n",
    "#     logits = tf.matmul(X, W) + b\n",
    "    hypothesis = tf.sigmoid(tf.matmul(X, W) + b)\n",
    "    predicted = tf.cast(hypothesis > 0.5, dtype=tf.float32)\n",
    "    accuracy = tf.reduce_mean(tf.cast(tf.equal(predicted, Y), dtype=tf.float32))\n",
    "#     x = sess.run(X , feed_dict={X: test_X, Y: test_Y})\n",
    "#     y = sess.run(Y , feed_dict={X: test_X, Y: test_Y})\n",
    "#     print('logits', sess.run(logits, feed_dict={X: test_X, Y: test_Y})[0])\n",
    "#     print('W', sess.run(W[0:5]))\n",
    "#     print('b', sess.run(b[0]))\n",
    "#     print('x', x[0][0:5])\n",
    "#     print(y)\n",
    "\n",
    "#     hypo = sess.run(hypothesis , feed_dict={X: test_X, Y: test_Y})\n",
    "#     print('hypothesis: ', hypo[0])\n",
    "    acc = sess.run(accuracy , feed_dict={X: test_X, Y: test_Y})\n",
    "    print('accuracy: ', float(acc))\n",
    "#     pred = sess.run(predicted , feed_dict={X: test_X, Y: test_Y})\n",
    "#     print('predicted: ', pred)"
   ]
  },
  {
   "cell_type": "code",
   "execution_count": null,
   "metadata": {},
   "outputs": [],
   "source": []
  }
 ],
 "metadata": {
  "kernelspec": {
   "display_name": "Python 3",
   "language": "python",
   "name": "python3"
  },
  "language_info": {
   "codemirror_mode": {
    "name": "ipython",
    "version": 3
   },
   "file_extension": ".py",
   "mimetype": "text/x-python",
   "name": "python",
   "nbconvert_exporter": "python",
   "pygments_lexer": "ipython3",
   "version": "3.6.4"
  }
 },
 "nbformat": 4,
 "nbformat_minor": 2
}
